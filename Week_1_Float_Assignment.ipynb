{
 "cells": [
  {
   "cell_type": "code",
   "execution_count": 2,
   "metadata": {},
   "outputs": [
    {
     "name": "stdout",
     "output_type": "stream",
     "text": [
      "2.56 <class 'float'> 2532991523280\n"
     ]
    }
   ],
   "source": [
    "# Declare a float value and store it in a variable. Check the type and print the id of the same.\n",
    "a = 2.56\n",
    "print(a, type(a), id(a))"
   ]
  },
  {
   "cell_type": "code",
   "execution_count": 10,
   "metadata": {},
   "outputs": [
    {
     "name": "stdout",
     "output_type": "stream",
     "text": [
      "25.200000000000003\n",
      "3.9000000000000004\n",
      "154.9575\n",
      "1.3661971830985915\n",
      "3.9000000000000004\n",
      "1.0\n",
      "2423767059680.449\n"
     ]
    }
   ],
   "source": [
    "# Arithmetic Operations on float \n",
    "# Take two different float values. Store them in two different variables. Do below operations on them:-\n",
    "a = 14.55\n",
    "b = 10.65\n",
    "\n",
    "# Find sum of both numbers\n",
    "c = a + b\n",
    "print(c)\n",
    "\n",
    "# Find difference between them\n",
    "d = a - b\n",
    "print(d)\n",
    "\n",
    "# Find the product of both numbers.\n",
    "e = a * b\n",
    "print(e)\n",
    "\n",
    "# Find value after dividing first num with second number\n",
    "f = a/b\n",
    "print(f)\n",
    "\n",
    "# Find the remainder after dividing first number with second number\n",
    "g = a%b\n",
    "print(g)\n",
    "\n",
    "# Find the quotient after dividing first number with second number\n",
    "h = a//b\n",
    "print(h)\n",
    "\n",
    "# Find the result of the first num to the power of the second number.\n",
    "i = a**b\n",
    "print(i)"
   ]
  },
  {
   "cell_type": "code",
   "execution_count": 14,
   "metadata": {},
   "outputs": [
    {
     "name": "stdout",
     "output_type": "stream",
     "text": [
      "True\n",
      "False\n",
      "True\n",
      "False\n"
     ]
    }
   ],
   "source": [
    "# Comparison Operators on float\n",
    "# Take two different float values. Store them in two different variables. Do below operations on them:-\n",
    "# Compare these two numbers with below operator:-\n",
    "a = 14.55\n",
    "b = 10.65\n",
    "\n",
    "# Greater than, '>'\n",
    "print(a>b)\n",
    "\n",
    "# Smaller than, '<'\n",
    "print(a<b)\n",
    "\n",
    "# Greater than or equal to, '>='\n",
    "print(a>=b)\n",
    "\n",
    "# Less than or equal to, '<='\n",
    "print(a<=b)\n",
    "\n",
    "# Observe their output(return type should be boolean)"
   ]
  },
  {
   "cell_type": "code",
   "execution_count": 17,
   "metadata": {},
   "outputs": [
    {
     "name": "stdout",
     "output_type": "stream",
     "text": [
      "False\n",
      "True\n"
     ]
    }
   ],
   "source": [
    "# Equality Operator\n",
    "# Take two different float values. Store them in two different variables. \n",
    "# Equate them using equality operators (==, !=)\n",
    "# Observe the output(return type should be boolean)\n",
    "a = 14.55\n",
    "b = 10.65\n",
    "print(a==b)\n",
    "print(a!=b)"
   ]
  },
  {
   "cell_type": "code",
   "execution_count": 23,
   "metadata": {},
   "outputs": [
    {
     "name": "stdout",
     "output_type": "stream",
     "text": [
      "20.3\n"
     ]
    }
   ],
   "source": [
    "# Logical operators\n",
    "# Observe the output of below code. Cross check the output manually\n",
    "print ( 10.20 and 20.30 )"
   ]
  },
  {
   "cell_type": "code",
   "execution_count": 24,
   "metadata": {},
   "outputs": [
    {
     "name": "stdout",
     "output_type": "stream",
     "text": [
      "0.0\n"
     ]
    }
   ],
   "source": [
    "print ( 0.0 and 20.30 )"
   ]
  },
  {
   "cell_type": "code",
   "execution_count": 25,
   "metadata": {},
   "outputs": [
    {
     "name": "stdout",
     "output_type": "stream",
     "text": [
      "0.0\n"
     ]
    }
   ],
   "source": [
    "print ( 20.30 and 0.0 )"
   ]
  },
  {
   "cell_type": "code",
   "execution_count": 26,
   "metadata": {},
   "outputs": [
    {
     "name": "stdout",
     "output_type": "stream",
     "text": [
      "0.0\n"
     ]
    }
   ],
   "source": [
    "print ( 0.0 and 0.0 )"
   ]
  },
  {
   "cell_type": "code",
   "execution_count": 27,
   "metadata": {},
   "outputs": [
    {
     "name": "stdout",
     "output_type": "stream",
     "text": [
      "10.2\n"
     ]
    }
   ],
   "source": [
    "print ( 10.20 or 20.30 )"
   ]
  },
  {
   "cell_type": "code",
   "execution_count": 28,
   "metadata": {},
   "outputs": [
    {
     "name": "stdout",
     "output_type": "stream",
     "text": [
      "20.3\n"
     ]
    }
   ],
   "source": [
    "print ( 0.0 or 20.30 )"
   ]
  },
  {
   "cell_type": "code",
   "execution_count": 29,
   "metadata": {},
   "outputs": [
    {
     "name": "stdout",
     "output_type": "stream",
     "text": [
      "20.3\n"
     ]
    }
   ],
   "source": [
    "print ( 20.30 or 0.0 )"
   ]
  },
  {
   "cell_type": "code",
   "execution_count": 30,
   "metadata": {},
   "outputs": [
    {
     "name": "stdout",
     "output_type": "stream",
     "text": [
      "0.0\n"
     ]
    }
   ],
   "source": [
    "print ( 0.0 or 0.0 )"
   ]
  },
  {
   "cell_type": "code",
   "execution_count": 31,
   "metadata": {},
   "outputs": [
    {
     "name": "stdout",
     "output_type": "stream",
     "text": [
      "False\n"
     ]
    }
   ],
   "source": [
    "print ( not 10.20 )\n",
    "# 10.20 is true hence the result will be false"
   ]
  },
  {
   "cell_type": "code",
   "execution_count": 32,
   "metadata": {},
   "outputs": [
    {
     "name": "stdout",
     "output_type": "stream",
     "text": [
      "True\n"
     ]
    }
   ],
   "source": [
    "print ( not 0.0 )\n",
    "#0.0 is false hence the result is true"
   ]
  },
  {
   "cell_type": "code",
   "execution_count": 45,
   "metadata": {},
   "outputs": [
    {
     "name": "stdout",
     "output_type": "stream",
     "text": [
      "False\n",
      "True\n",
      "2532991865488\n",
      "2532991866384\n",
      "2532991865488\n"
     ]
    }
   ],
   "source": [
    "# What is the output of expression inside print statement. Cross check before running the program.\n",
    "a = 10.20\n",
    "b = 10.20\n",
    "c = a\n",
    "print (a is b) \n",
    "print (a is not b)\n",
    "print(id(a))\n",
    "print(id(b))\n",
    "print(id(c))\n",
    "# Why the Id of float values are different when the same value is assigned to two different variables\n",
    "# ex: a = 10.5 b=10.5. but id will be same if I assign the variable having float i.e. a=c then both a and c's Id are same"
   ]
  },
  {
   "cell_type": "code",
   "execution_count": null,
   "metadata": {},
   "outputs": [],
   "source": [
    "# Bitwise operation is not applicable between instances of float.\n",
    "# Why the Id of float values are different when the same value is assigned to two different variables\n",
    "# ex: a = 10.5 b=10.5. but id will be same if I assign the variable\n",
    "# having float i.e. a=c then both a and c's Id are same\n",
    "# Object reusability concept is not applicable on float values."
   ]
  },
  {
   "cell_type": "code",
   "execution_count": 49,
   "metadata": {},
   "outputs": [
    {
     "name": "stdout",
     "output_type": "stream",
     "text": [
      "True\n",
      "True\n",
      "True\n",
      "True\n",
      "True\n",
      "True\n"
     ]
    }
   ],
   "source": [
    "# Membership operation in, not in are two membership operators and it returns boolean value\n",
    "print ('2.7' in 'Python2.7.8')\n",
    "#2.7 is available in Python2.7.8\n",
    "\n",
    "print (10.20 in [10 , 10.20 , 10 + 20j , 'Python']) \n",
    "#10.20 is avilable 10 , 10.20 , 10 + 20j , 'Python'\n",
    "\n",
    "print (10.20 in (10 , 10.20 , 10 + 20j , 'Python'))\n",
    "# 10.20 is available in 10 , 10.20 , 10 + 20j , 'Python'\n",
    "\n",
    "print (20.30 in {1 , 20.30 , 30 + 40j })\n",
    "# 20.30 is available in 1 , 20.30 , 30 + 40j\n",
    "\n",
    "print (2.3 in {1 : 100 , 2.3 : 200 , 30 + 40j : 300 })\n",
    "# 2.3 is available in key\n",
    "\n",
    "print (10 in range ( 20 ))\n",
    "# 10 is available in 0-19 range"
   ]
  },
  {
   "cell_type": "code",
   "execution_count": null,
   "metadata": {},
   "outputs": [],
   "source": []
  }
 ],
 "metadata": {
  "kernelspec": {
   "display_name": "Python 3",
   "language": "python",
   "name": "python3"
  },
  "language_info": {
   "codemirror_mode": {
    "name": "ipython",
    "version": 3
   },
   "file_extension": ".py",
   "mimetype": "text/x-python",
   "name": "python",
   "nbconvert_exporter": "python",
   "pygments_lexer": "ipython3",
   "version": "3.8.5"
  }
 },
 "nbformat": 4,
 "nbformat_minor": 4
}
