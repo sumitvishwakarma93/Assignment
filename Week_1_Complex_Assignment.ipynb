{
 "cells": [
  {
   "cell_type": "code",
   "execution_count": 6,
   "metadata": {},
   "outputs": [
    {
     "name": "stdout",
     "output_type": "stream",
     "text": [
      "<class 'complex'> 2014224607504\n"
     ]
    }
   ],
   "source": [
    "# Declare a complex number and store it in a variable. Check the type and print the id of the same.\n",
    "a = 10+40j\n",
    "print(type(a), id(a))"
   ]
  },
  {
   "cell_type": "code",
   "execution_count": 11,
   "metadata": {},
   "outputs": [
    {
     "name": "stdout",
     "output_type": "stream",
     "text": [
      "(35+70j)\n",
      "(-15-10j)\n",
      "(-950+1150j)\n",
      "(0.651685393258427+0.15730337078651685j)\n",
      "(6115761303964746-1658091841703326.2j)\n"
     ]
    }
   ],
   "source": [
    "# Arithmetic Operations on complex number\n",
    "# Take two different complex numbers. Store them in two different variables. Do below operations on them:-\n",
    "a = 10 + 30j\n",
    "b = 25 + 40j\n",
    "\n",
    "# Find sum of both numbers\n",
    "print(a+b)\n",
    "\n",
    "# Find difference between them\n",
    "print(a-b)\n",
    "\n",
    "# Find the product of both numbers.\n",
    "print(a*b)\n",
    "\n",
    "# Find value after dividing first num with second number\n",
    "print(a/b)\n",
    "\n",
    "# Find the result of the first num to the power of the second number.\n",
    "print(a**b)"
   ]
  },
  {
   "cell_type": "code",
   "execution_count": null,
   "metadata": {},
   "outputs": [],
   "source": [
    "# Comparison Operation not applicable between instance of complex values. \n",
    "Yes, we can not compare complex numbers because of imaginary part(j).\n",
    "\n",
    "# Object reusability concept is not applicable on complex number\n",
    "This is because of imaginary part of complex number. We can create infinite complex numbers."
   ]
  },
  {
   "cell_type": "code",
   "execution_count": 12,
   "metadata": {},
   "outputs": [
    {
     "name": "stdout",
     "output_type": "stream",
     "text": [
      "False\n",
      "True\n"
     ]
    }
   ],
   "source": [
    "# Equality Operator\n",
    "# Take two different complex numbers. Store them in two different variables. Equate them using equality operators (==, !=)\n",
    "# Observe the output(return type should be boolean)\n",
    "\n",
    "a = 10 + 30j\n",
    "b = 25 + 40j\n",
    "print(a==b)\n",
    "print(a!=b)"
   ]
  },
  {
   "cell_type": "code",
   "execution_count": 13,
   "metadata": {},
   "outputs": [
    {
     "name": "stdout",
     "output_type": "stream",
     "text": [
      "(20+30j)\n"
     ]
    }
   ],
   "source": [
    "# Logical operators\n",
    "# Observe the output of below code. Cross check the output manually\n",
    "\n",
    "print ( 10 + 20j and 20 + 30j )"
   ]
  },
  {
   "cell_type": "code",
   "execution_count": 14,
   "metadata": {},
   "outputs": [
    {
     "name": "stdout",
     "output_type": "stream",
     "text": [
      "0j\n"
     ]
    }
   ],
   "source": [
    "print ( 0 + 0j and 20 + 30j )"
   ]
  },
  {
   "cell_type": "code",
   "execution_count": 15,
   "metadata": {},
   "outputs": [
    {
     "name": "stdout",
     "output_type": "stream",
     "text": [
      "0j\n"
     ]
    }
   ],
   "source": [
    "print ( 20 + 30j and 0 + 0j )"
   ]
  },
  {
   "cell_type": "code",
   "execution_count": 16,
   "metadata": {},
   "outputs": [
    {
     "name": "stdout",
     "output_type": "stream",
     "text": [
      "0j\n"
     ]
    }
   ],
   "source": [
    "print ( 0 + 0j and 0 + 0j )"
   ]
  },
  {
   "cell_type": "code",
   "execution_count": 17,
   "metadata": {},
   "outputs": [
    {
     "name": "stdout",
     "output_type": "stream",
     "text": [
      "(10+20j)\n"
     ]
    }
   ],
   "source": [
    "print ( 10 + 20j or 20 + 30j )"
   ]
  },
  {
   "cell_type": "code",
   "execution_count": 18,
   "metadata": {},
   "outputs": [
    {
     "name": "stdout",
     "output_type": "stream",
     "text": [
      "(20+30j)\n"
     ]
    }
   ],
   "source": [
    "print ( 0 + 0j or 20 + 30j )"
   ]
  },
  {
   "cell_type": "code",
   "execution_count": 19,
   "metadata": {},
   "outputs": [
    {
     "name": "stdout",
     "output_type": "stream",
     "text": [
      "(20+30j)\n"
     ]
    }
   ],
   "source": [
    "print ( 20 + 30j or 0 + 0j )"
   ]
  },
  {
   "cell_type": "code",
   "execution_count": 20,
   "metadata": {},
   "outputs": [
    {
     "name": "stdout",
     "output_type": "stream",
     "text": [
      "0j\n"
     ]
    }
   ],
   "source": [
    "print ( 0 + 0j or 0 + 0j )"
   ]
  },
  {
   "cell_type": "code",
   "execution_count": 21,
   "metadata": {},
   "outputs": [
    {
     "name": "stdout",
     "output_type": "stream",
     "text": [
      "False\n"
     ]
    }
   ],
   "source": [
    "print ( not 10 + 20j )"
   ]
  },
  {
   "cell_type": "code",
   "execution_count": 22,
   "metadata": {},
   "outputs": [
    {
     "name": "stdout",
     "output_type": "stream",
     "text": [
      "True\n"
     ]
    }
   ],
   "source": [
    "print ( not 0 + 0j )"
   ]
  },
  {
   "cell_type": "code",
   "execution_count": 24,
   "metadata": {},
   "outputs": [
    {
     "name": "stdout",
     "output_type": "stream",
     "text": [
      "False\n",
      "True\n",
      "2014225601232\n",
      "2014225601936\n"
     ]
    }
   ],
   "source": [
    "# What is the output of the expression inside the print statement. Cross check before running the program.\n",
    "a = 10 + 20j\n",
    "b = 10 + 20j\n",
    "print (a is b) \n",
    "print (a is not b)\n",
    "print(id(a))\n",
    "print(id(b))"
   ]
  },
  {
   "cell_type": "code",
   "execution_count": 25,
   "metadata": {},
   "outputs": [
    {
     "name": "stdout",
     "output_type": "stream",
     "text": [
      "True\n",
      "True\n",
      "True\n",
      "True\n",
      "True\n",
      "True\n"
     ]
    }
   ],
   "source": [
    "# Membership operation in, not in are two membership operators and it returns boolean value\n",
    "print ('2.7' in 'Python2.7.8')\n",
    "#2.7 is available in Python2.7.8\n",
    "\n",
    "print (10+20j in [10 , 10.20 , 10 + 20j , 'Python']) \n",
    "#10+20j is avilable 10 , 10.20 , 10 + 20j , 'Python'\n",
    "\n",
    "print (10+20j in (10 , 10.20 , 10 + 20j , 'Python'))\n",
    "# 10+20j is available in 10 , 10.20 , 10 + 20j , 'Python'\n",
    "\n",
    "print (30+40j in {1 , 20.30 , 30 + 40j })\n",
    "# 30+40j is available in 1 , 20.30 , 30 + 40j\n",
    "\n",
    "print (30+40j in {1 : 100 , 2.3 : 200 , 30 + 40j : 300 })\n",
    "# 30+40j is available in key\n",
    "\n",
    "print (10 in range ( 20 ))\n",
    "# 10 is available in 0-19 range"
   ]
  },
  {
   "cell_type": "code",
   "execution_count": null,
   "metadata": {},
   "outputs": [],
   "source": []
  }
 ],
 "metadata": {
  "kernelspec": {
   "display_name": "Python 3",
   "language": "python",
   "name": "python3"
  },
  "language_info": {
   "codemirror_mode": {
    "name": "ipython",
    "version": 3
   },
   "file_extension": ".py",
   "mimetype": "text/x-python",
   "name": "python",
   "nbconvert_exporter": "python",
   "pygments_lexer": "ipython3",
   "version": "3.8.5"
  }
 },
 "nbformat": 4,
 "nbformat_minor": 4
}
