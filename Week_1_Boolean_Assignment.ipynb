{
 "cells": [
  {
   "cell_type": "code",
   "execution_count": 1,
   "metadata": {},
   "outputs": [
    {
     "name": "stdout",
     "output_type": "stream",
     "text": [
      "<class 'bool'> 140713288718160\n"
     ]
    }
   ],
   "source": [
    "# Declare a boolean value and store it in a variable. Check the type and print the id of the same.\n",
    "a = True\n",
    "print(type(a), id(a))"
   ]
  },
  {
   "cell_type": "code",
   "execution_count": 8,
   "metadata": {},
   "outputs": [
    {
     "name": "stdout",
     "output_type": "stream",
     "text": [
      "<class 'bool'> 140713288718160\n",
      "<class 'bool'> 140713288718160\n"
     ]
    }
   ],
   "source": [
    "# Take one boolean value between 0 - 256. Assign it to two different variables. \n",
    "# Check the id of both the variables. It should come the same. Check why?\n",
    "\n",
    "a = bool(153)\n",
    "b = bool(153)\n",
    "print(type(a), id(a))\n",
    "print(type(b), id(b))"
   ]
  },
  {
   "cell_type": "code",
   "execution_count": 30,
   "metadata": {},
   "outputs": [
    {
     "name": "stdout",
     "output_type": "stream",
     "text": [
      "True\n",
      "False\n",
      "True\n",
      "True\n",
      "False\n",
      "True\n",
      "True\n"
     ]
    }
   ],
   "source": [
    "# Arithmetic Operations on boolean data \n",
    "# Take two different boolean values. Store them in two different variables. Do below operations on them:-\n",
    "a = bool(20)\n",
    "b = bool(10)\n",
    "# a = True\n",
    "# b = False\n",
    "\n",
    "# Find sum of both values\n",
    "print(bool(a+b))\n",
    "\n",
    "# Find difference between them\n",
    "print(bool(a-b))\n",
    "\n",
    "# Find the product of both.\n",
    "print(bool(a*b))\n",
    "\n",
    "# Find value after dividing first value with second value\n",
    "print(bool(a/b))\n",
    "\n",
    "# Find the remainder after dividing first value with second value\n",
    "print(bool(a%b))\n",
    "\n",
    "# Find the quotient after dividing first value with second value\n",
    "print(bool(a//b))\n",
    "\n",
    "# Find the result of first value to the power of second value.\n",
    "print(bool(a**b))"
   ]
  },
  {
   "cell_type": "code",
   "execution_count": 28,
   "metadata": {},
   "outputs": [
    {
     "name": "stdout",
     "output_type": "stream",
     "text": [
      "True\n",
      "False\n",
      "True\n",
      "False\n"
     ]
    }
   ],
   "source": [
    "# Comparison Operators on boolean values\n",
    "# Take two different boolean values.\n",
    "# Store them in two different variables. Do below operations on them:-\n",
    "# Compare these two values with below operator:-\n",
    "# a = bool(20)\n",
    "# b = bool(10)\n",
    "a = True\n",
    "b = False\n",
    "\n",
    "# Greater than, '>'\n",
    "print(a>b)\n",
    "\n",
    "# less than, '<'\n",
    "print(a<b)\n",
    "\n",
    "# Greater than or equal to, '>='\n",
    "print(a>=b)\n",
    "\n",
    "# Less than or equal to, '<='\n",
    "print(a<=b)\n",
    "\n",
    "# Observe their output(return type should be boolean)"
   ]
  },
  {
   "cell_type": "code",
   "execution_count": 31,
   "metadata": {},
   "outputs": [
    {
     "name": "stdout",
     "output_type": "stream",
     "text": [
      "False\n",
      "True\n"
     ]
    }
   ],
   "source": [
    "# Equality Operator\n",
    "# Take two different boolean values.\n",
    "# Store them in two different variables.\n",
    "# Equate them using equality operators (==, !=)\n",
    "a = True\n",
    "b = False\n",
    "print(a==b)\n",
    "print(a!=b)\n",
    "# Observe the output(return type should be boolean)"
   ]
  },
  {
   "cell_type": "code",
   "execution_count": 32,
   "metadata": {},
   "outputs": [
    {
     "name": "stdout",
     "output_type": "stream",
     "text": [
      "True\n",
      "False\n",
      "False\n",
      "False\n",
      "True\n",
      "True\n",
      "True\n",
      "False\n",
      "False\n",
      "True\n"
     ]
    }
   ],
   "source": [
    "# Logical operators\n",
    "# Observe the output of below code. Cross check the output manually\n",
    "print ( True and True )\n",
    "\n",
    "print ( False and True )\n",
    "\n",
    "print ( True and False )\n",
    "\n",
    "print ( False and False )\n",
    "\n",
    "print ( True or True )\n",
    "\n",
    "print ( False or True )\n",
    "\n",
    "print ( True or False )\n",
    "\n",
    "print ( False or False )\n",
    "\n",
    "print ( not True )\n",
    "\n",
    "print ( not False )"
   ]
  },
  {
   "cell_type": "code",
   "execution_count": 39,
   "metadata": {},
   "outputs": [
    {
     "name": "stdout",
     "output_type": "stream",
     "text": [
      "True\n",
      "True\n",
      "True\n"
     ]
    }
   ],
   "source": [
    "# Bitwise Operators\n",
    "# Do below operations on the values provided below:-\n",
    "print(True & True)\n",
    "print(True | False)\n",
    "print(True ^ False)"
   ]
  },
  {
   "cell_type": "code",
   "execution_count": 40,
   "metadata": {},
   "outputs": [
    {
     "name": "stdout",
     "output_type": "stream",
     "text": [
      "-2\n"
     ]
    }
   ],
   "source": [
    "# Bitwise negation\n",
    "print(~True)\n",
    "\n",
    "#(~1) = -(1+1) = -2"
   ]
  },
  {
   "cell_type": "code",
   "execution_count": 41,
   "metadata": {},
   "outputs": [
    {
     "name": "stdout",
     "output_type": "stream",
     "text": [
      "4\n"
     ]
    }
   ],
   "source": [
    "# Bitwise left shift\n",
    "print(True<<2)"
   ]
  },
  {
   "cell_type": "code",
   "execution_count": 42,
   "metadata": {},
   "outputs": [
    {
     "name": "stdout",
     "output_type": "stream",
     "text": [
      "0\n"
     ]
    }
   ],
   "source": [
    "# Bitwise right shift\n",
    "print(True>>2)"
   ]
  },
  {
   "cell_type": "code",
   "execution_count": 45,
   "metadata": {},
   "outputs": [
    {
     "name": "stdout",
     "output_type": "stream",
     "text": [
      "True\n",
      "False\n",
      "140713288718160\n",
      "140713288718160\n"
     ]
    }
   ],
   "source": [
    "# What is the output of expression inside the print statement. Cross check before running the program.\n",
    "a = True\n",
    "b = True\n",
    "print (a is b)\n",
    "print (a is not b)\n",
    "print(id(a))\n",
    "print(id(b))"
   ]
  },
  {
   "cell_type": "code",
   "execution_count": 46,
   "metadata": {},
   "outputs": [
    {
     "name": "stdout",
     "output_type": "stream",
     "text": [
      "True\n",
      "False\n",
      "140713288718192\n",
      "140713288718192\n"
     ]
    }
   ],
   "source": [
    "a = False\n",
    "b = False\n",
    "print (a is b)\n",
    "print (a is not b)\n",
    "print(id(a))\n",
    "print(id(b))"
   ]
  },
  {
   "cell_type": "code",
   "execution_count": 47,
   "metadata": {},
   "outputs": [
    {
     "name": "stdout",
     "output_type": "stream",
     "text": [
      "True\n",
      "True\n",
      "True\n",
      "True\n",
      "True\n"
     ]
    }
   ],
   "source": [
    "# Membership operation\n",
    "# in, not in are two membership operators and it returns boolean value\n",
    "print ( True in [ 10 , 10.20 , 10 + 20j , 'Python' , True ])\n",
    "print ( False in ( 10 , 10.20 , 10 + 20j , 'Python' , False ))\n",
    "print ( True in { 1 , 2 , 3 , True })\n",
    "print ( True in { True : 100 , False : 200 , True : 300 })\n",
    "print ( False in { True : 100 , False : 200 , True : 300 })"
   ]
  },
  {
   "cell_type": "code",
   "execution_count": null,
   "metadata": {},
   "outputs": [],
   "source": []
  }
 ],
 "metadata": {
  "kernelspec": {
   "display_name": "Python 3",
   "language": "python",
   "name": "python3"
  },
  "language_info": {
   "codemirror_mode": {
    "name": "ipython",
    "version": 3
   },
   "file_extension": ".py",
   "mimetype": "text/x-python",
   "name": "python",
   "nbconvert_exporter": "python",
   "pygments_lexer": "ipython3",
   "version": "3.8.5"
  }
 },
 "nbformat": 4,
 "nbformat_minor": 4
}
