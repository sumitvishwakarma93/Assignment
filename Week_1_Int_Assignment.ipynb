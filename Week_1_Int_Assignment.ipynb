{
 "cells": [
  {
   "cell_type": "code",
   "execution_count": 7,
   "metadata": {},
   "outputs": [
    {
     "name": "stdout",
     "output_type": "stream",
     "text": [
      "10 <class 'int'>\n",
      "10 140713281202240\n"
     ]
    }
   ],
   "source": [
    "# Declare an int value and store it in a variable. Check the type and print the id of the same.\n",
    "a = 10\n",
    "print(a,type (a))\n",
    "print(a, id(a))"
   ]
  },
  {
   "cell_type": "code",
   "execution_count": 14,
   "metadata": {},
   "outputs": [
    {
     "name": "stdout",
     "output_type": "stream",
     "text": [
      "25 140713281202720\n",
      "25 140713281202720\n"
     ]
    }
   ],
   "source": [
    "# # Take one int value between 0 - 256.\n",
    "# Assign it to two different variables.\n",
    "# Check the id of both the variables. It should come the same. Check why?\n",
    "a = 25\n",
    "b = 25\n",
    "print(a, id(a))\n",
    "print(b, id(b))\n",
    "\n",
    "# Yes, id will be same for the variables having same values because python uses same memory location (object usability) for integer from -5 to 256."
   ]
  },
  {
   "cell_type": "code",
   "execution_count": 16,
   "metadata": {},
   "outputs": [
    {
     "name": "stdout",
     "output_type": "stream",
     "text": [
      "500 2687060472432\n",
      "500 2687060471952\n"
     ]
    }
   ],
   "source": [
    "# Take one int value either less than -5 or greater than 256.\n",
    "# Assign it to two different variables.\n",
    "# Check the id of both the variables. It should come different.Check why?\n",
    "a = 500\n",
    "b = 500\n",
    "print(a, id(a))\n",
    "print(b, id(b))\n",
    "\n",
    "# Yes, id will be different for the variables having same values because python uses different memory (object usabitlity) location for integer lessthan or greaterthan -5 to 256."
   ]
  },
  {
   "cell_type": "code",
   "execution_count": 25,
   "metadata": {},
   "outputs": [
    {
     "name": "stdout",
     "output_type": "stream",
     "text": [
      "100\n",
      "40\n",
      "2100\n",
      "2.3333333333333335\n",
      "10\n",
      "2\n",
      "22539340290692258087863249000000000000000000000000000000\n"
     ]
    }
   ],
   "source": [
    "# Arithmetic Operations on integers\n",
    "# Take two different integer values.\n",
    "# Store them in two different variables.\n",
    "# Do below operations on them:-\n",
    "# Find sum of both numbers\n",
    "a = 70\n",
    "b = 30\n",
    "c = a + b\n",
    "print(c)\n",
    "\n",
    "# # Find difference between them\n",
    "d = a - b\n",
    "print(d)\n",
    "\n",
    "# # Find the product of both numbers.\n",
    "e = a*b\n",
    "print(e)\n",
    "\n",
    "# # Find value after dividing first num with second number\n",
    "f = a/b\n",
    "print(f)\n",
    "\n",
    "# Find the remainder after dividing first number with second number\n",
    "g = a % b\n",
    "print(g)\n",
    "\n",
    "# Find the quotient after dividing first number with second number\n",
    "i = a//b\n",
    "print(i)\n",
    "    \n",
    "# Find the result of the first num to the power of the second number.\n",
    "j = a**b\n",
    "print(j)"
   ]
  },
  {
   "cell_type": "code",
   "execution_count": 30,
   "metadata": {},
   "outputs": [
    {
     "name": "stdout",
     "output_type": "stream",
     "text": [
      "False\n",
      "True\n",
      "False\n",
      "True\n"
     ]
    }
   ],
   "source": [
    "# Comparison Operators on integers\n",
    "# Take two different integer values.\n",
    "# Store them in two different variables.\n",
    "# Do below operations on them:-\n",
    "# Compare se two numbers with below operator:-\n",
    "# Greater than, '>'\n",
    "a = 6458\n",
    "b = 6539\n",
    "print(a > b)\n",
    "\n",
    "# Smaller than, '<'\n",
    "print (a < b)\n",
    "\n",
    "# Greater than or equal to, '>='\n",
    "print(a>=b)\n",
    "\n",
    "# Less than or equal to, '<='\n",
    "print(a<=b)\n",
    "\n",
    "# Observe their output(return type should be boolean)"
   ]
  },
  {
   "cell_type": "code",
   "execution_count": 32,
   "metadata": {},
   "outputs": [
    {
     "name": "stdout",
     "output_type": "stream",
     "text": [
      "False\n",
      "True\n"
     ]
    }
   ],
   "source": [
    "# Equality Operator\n",
    "# Take two different integer values.\n",
    "# Store them in two different variables.\n",
    "# Equate them using equality operators (==, !=)\n",
    "# Observe the output(return type should be boolean)\n",
    "x = 65733085\n",
    "y = 65937595\n",
    "print(x == y)\n",
    "print(x != y)"
   ]
  },
  {
   "cell_type": "code",
   "execution_count": 1,
   "metadata": {},
   "outputs": [
    {
     "name": "stdout",
     "output_type": "stream",
     "text": [
      "20\n"
     ]
    }
   ],
   "source": [
    "# Logical operators\n",
    "# Observe the output of below code\n",
    "# Cross check the output manually\n",
    "print ( 10 and 20 )"
   ]
  },
  {
   "cell_type": "code",
   "execution_count": 2,
   "metadata": {},
   "outputs": [
    {
     "name": "stdout",
     "output_type": "stream",
     "text": [
      "0\n"
     ]
    }
   ],
   "source": [
    "print ( 0 and 20 )"
   ]
  },
  {
   "cell_type": "code",
   "execution_count": 3,
   "metadata": {},
   "outputs": [
    {
     "name": "stdout",
     "output_type": "stream",
     "text": [
      "0\n"
     ]
    }
   ],
   "source": [
    "print ( 20 and 0 )"
   ]
  },
  {
   "cell_type": "code",
   "execution_count": 4,
   "metadata": {},
   "outputs": [
    {
     "name": "stdout",
     "output_type": "stream",
     "text": [
      "0\n"
     ]
    }
   ],
   "source": [
    "print ( 0 and 0 )"
   ]
  },
  {
   "cell_type": "code",
   "execution_count": 5,
   "metadata": {},
   "outputs": [
    {
     "name": "stdout",
     "output_type": "stream",
     "text": [
      "10\n"
     ]
    }
   ],
   "source": [
    "print ( 10 or 20 )"
   ]
  },
  {
   "cell_type": "code",
   "execution_count": 6,
   "metadata": {},
   "outputs": [
    {
     "name": "stdout",
     "output_type": "stream",
     "text": [
      "20\n"
     ]
    }
   ],
   "source": [
    "print ( 0 or 20 )"
   ]
  },
  {
   "cell_type": "code",
   "execution_count": 7,
   "metadata": {},
   "outputs": [
    {
     "name": "stdout",
     "output_type": "stream",
     "text": [
      "20\n"
     ]
    }
   ],
   "source": [
    "print ( 20 or 0 )"
   ]
  },
  {
   "cell_type": "code",
   "execution_count": 8,
   "metadata": {},
   "outputs": [
    {
     "name": "stdout",
     "output_type": "stream",
     "text": [
      "0\n"
     ]
    }
   ],
   "source": [
    "print ( 0 or 0 )"
   ]
  },
  {
   "cell_type": "code",
   "execution_count": 8,
   "metadata": {},
   "outputs": [
    {
     "name": "stdout",
     "output_type": "stream",
     "text": [
      "False\n"
     ]
    }
   ],
   "source": [
    "print ( not 10 )\n",
    "\n",
    "# value which is not equal to 0 is Ture, that's why result is flase"
   ]
  },
  {
   "cell_type": "code",
   "execution_count": 9,
   "metadata": {},
   "outputs": [
    {
     "name": "stdout",
     "output_type": "stream",
     "text": [
      "True\n"
     ]
    }
   ],
   "source": [
    "print ( not 0 ) \n",
    "\n",
    "# 0 is flase, so result is true."
   ]
  },
  {
   "cell_type": "code",
   "execution_count": 11,
   "metadata": {},
   "outputs": [
    {
     "name": "stdout",
     "output_type": "stream",
     "text": [
      "0\n",
      "0b1010\n",
      "0b10100\n",
      "0\n"
     ]
    }
   ],
   "source": [
    "# Bitwise and(&)\n",
    "print ( 10 & 20 )\n",
    "print(bin(10))\n",
    "print(bin(20))\n",
    "# 10 = 01010\n",
    "# 20 = 10100\n",
    "#---------------\n",
    "#  & = 00000\n",
    "print(0b00000)"
   ]
  },
  {
   "cell_type": "code",
   "execution_count": 12,
   "metadata": {},
   "outputs": [
    {
     "name": "stdout",
     "output_type": "stream",
     "text": [
      "30\n",
      "30\n"
     ]
    }
   ],
   "source": [
    "# Bitwise or(|)\n",
    "print ( 10 | 20 )\n",
    "\n",
    "# 10 = 01010\n",
    "# 20 = 10100\n",
    "#---------------\n",
    "#  | = 11110\n",
    "print(0b11110)"
   ]
  },
  {
   "cell_type": "code",
   "execution_count": 14,
   "metadata": {},
   "outputs": [
    {
     "name": "stdout",
     "output_type": "stream",
     "text": [
      "30\n",
      "30\n"
     ]
    }
   ],
   "source": [
    "# Bitwise(^)\n",
    "print ( 10 ^ 20 )\n",
    "\n",
    "# 10 = 01010\n",
    "# 20 = 10100\n",
    "#---------------\n",
    "#  | = 11110\n",
    "print(0b11110)"
   ]
  },
  {
   "cell_type": "code",
   "execution_count": 15,
   "metadata": {},
   "outputs": [
    {
     "name": "stdout",
     "output_type": "stream",
     "text": [
      "-11\n"
     ]
    }
   ],
   "source": [
    "# Bitwise negation(~)\n",
    "print(~10)\n",
    "\n",
    "# -(10 + 1) = -11"
   ]
  },
  {
   "cell_type": "code",
   "execution_count": 16,
   "metadata": {},
   "outputs": [
    {
     "name": "stdout",
     "output_type": "stream",
     "text": [
      "40\n"
     ]
    }
   ],
   "source": [
    "# Bitwise left shift\n",
    "print(10<<2)\n",
    "\n",
    "# 10 * (2**2)"
   ]
  },
  {
   "cell_type": "code",
   "execution_count": 21,
   "metadata": {},
   "outputs": [
    {
     "name": "stdout",
     "output_type": "stream",
     "text": [
      "2\n"
     ]
    }
   ],
   "source": [
    "# Bitwise right shift\n",
    "\n",
    "print(10>>2)\n",
    "\n",
    "# 10 // (2**2)"
   ]
  },
  {
   "cell_type": "code",
   "execution_count": 22,
   "metadata": {},
   "outputs": [
    {
     "name": "stdout",
     "output_type": "stream",
     "text": [
      "True\n",
      "False\n"
     ]
    }
   ],
   "source": [
    "a = 10\n",
    "b = 10\n",
    "print(a is b) \n",
    "# both have same memory reference\n",
    "\n",
    "print(a is not b)\n",
    "# both have same memory reference. So this statement is false."
   ]
  },
  {
   "cell_type": "code",
   "execution_count": 23,
   "metadata": {},
   "outputs": [
    {
     "name": "stdout",
     "output_type": "stream",
     "text": [
      "False\n",
      "True\n"
     ]
    }
   ],
   "source": [
    "a = 1000\n",
    "b = 1000\n",
    "print(a is b) \n",
    "# Having different memory reference (between -5 to 256 values having same memory reference)\n",
    "\n",
    "print(a is not b)\n",
    "# Having different memory memory reference. hence it is true"
   ]
  },
  {
   "cell_type": "code",
   "execution_count": 26,
   "metadata": {},
   "outputs": [
    {
     "name": "stdout",
     "output_type": "stream",
     "text": [
      "20\n",
      "0b1110100\n",
      "20\n"
     ]
    }
   ],
   "source": [
    "# What is the output of expression inside print statement. Cross check before running the program.\n",
    "print ( 10 +( 10 * 32 )// 2 ** 5 & 20 +(~( -10 ))<< 2 )\n",
    "\n",
    "# According to operator presedence\n",
    "# 10 + 320 // 2 ** 5 & 20 + 9 << 2\n",
    "# 10 + 320 // 32 & 20 + 9 << 2\n",
    "# 10 + 10 & 20 + 9 << 2\n",
    "# 20 & 29 << 2\n",
    "# 20 & 116\n",
    "\n",
    "print(bin(116))\n",
    "\n",
    "# 20  = 0010100\n",
    "# 116 = 1110100\n",
    "# --------------\n",
    "#  &  = 0010100\n",
    "print(0b10100)"
   ]
  },
  {
   "cell_type": "code",
   "execution_count": 27,
   "metadata": {},
   "outputs": [
    {
     "name": "stdout",
     "output_type": "stream",
     "text": [
      "True\n",
      "True\n",
      "True\n",
      "True\n",
      "True\n",
      "True\n"
     ]
    }
   ],
   "source": [
    "print ( '2' in 'Python2.7.8' )\n",
    "# 2 is available in Python2.7.8\n",
    "\n",
    "print ( 10 in [ 10 , 10.20 , 10 + 20j , 'Python' ])\n",
    "# 10 is available in 10 , 10.20 , 10 + 20j , 'Python'\n",
    "\n",
    "print ( 10 in ( 10 , 10.20 , 10 + 20j , 'Python' ))\n",
    "# 10 is available in 10 , 10.20 , 10 + 20j , 'Python'\n",
    "\n",
    "print ( 2 in { 1 , 2 , 3 })\n",
    "# 2 is available in 1 , 2 , 3\n",
    "\n",
    "print ( 3 in { 1 : 100 , 2 : 200 , 3 : 300 })\n",
    "# 3 is available in key.\n",
    "\n",
    "print ( 10 in range ( 20 ))\n",
    "# 10 is available in this range. i.e. 0,1,2,3,4,5,6,7,8,9,10,11,12,13,14,15,16,17,18,19"
   ]
  },
  {
   "cell_type": "code",
   "execution_count": 31,
   "metadata": {},
   "outputs": [
    {
     "name": "stdout",
     "output_type": "stream",
     "text": [
      "20 30 40\n",
      "0b10011010010100 0o23224 0x2694\n"
     ]
    }
   ],
   "source": [
    "# An integer can be represented in binary, octal or hexadecimal form.\n",
    "# Declare one binary, one octal and one hexadecimal value and store them in three different variables.\n",
    "# Convert 9876 to its binary, octal and hexadecimal equivalent and print their corresponding value.\n",
    "\n",
    "x = 0b10100\n",
    "y = 0o36\n",
    "z = 0x28\n",
    "print (x,y,z)\n",
    "\n",
    "a = 9876\n",
    "print(bin(a), oct(a), hex(a))"
   ]
  },
  {
   "cell_type": "code",
   "execution_count": 46,
   "metadata": {},
   "outputs": [
    {
     "name": "stdout",
     "output_type": "stream",
     "text": [
      "80\n",
      "3870\n",
      "64222\n"
     ]
    }
   ],
   "source": [
    "a = 0b1010000\n",
    "print(a)\n",
    "\n",
    "b = 0o7436\n",
    "print(b)\n",
    "\n",
    "c = 0xfade\n",
    "print(c)"
   ]
  },
  {
   "cell_type": "code",
   "execution_count": 45,
   "metadata": {},
   "outputs": [
    {
     "name": "stdout",
     "output_type": "stream",
     "text": [
      "0b1010000\n"
     ]
    }
   ],
   "source": [
    "print(bin(80))"
   ]
  },
  {
   "cell_type": "code",
   "execution_count": 36,
   "metadata": {},
   "outputs": [
    {
     "name": "stdout",
     "output_type": "stream",
     "text": [
      "0o7436\n"
     ]
    }
   ],
   "source": [
    "print(oct(3870))"
   ]
  },
  {
   "cell_type": "code",
   "execution_count": 37,
   "metadata": {},
   "outputs": [
    {
     "name": "stdout",
     "output_type": "stream",
     "text": [
      "0xfade\n"
     ]
    }
   ],
   "source": [
    "print(hex(64222))"
   ]
  },
  {
   "cell_type": "code",
   "execution_count": 38,
   "metadata": {},
   "outputs": [
    {
     "name": "stdout",
     "output_type": "stream",
     "text": [
      "0b1010000\n"
     ]
    }
   ],
   "source": [
    "print(bin(0b1010000))"
   ]
  },
  {
   "cell_type": "code",
   "execution_count": 39,
   "metadata": {},
   "outputs": [
    {
     "name": "stdout",
     "output_type": "stream",
     "text": [
      "0b1111101011011110\n"
     ]
    }
   ],
   "source": [
    "print(bin(0xfade))"
   ]
  },
  {
   "cell_type": "code",
   "execution_count": 41,
   "metadata": {},
   "outputs": [
    {
     "name": "stdout",
     "output_type": "stream",
     "text": [
      "0o175336\n"
     ]
    }
   ],
   "source": [
    "print(oct(0xfade))"
   ]
  },
  {
   "cell_type": "code",
   "execution_count": 42,
   "metadata": {},
   "outputs": [
    {
     "name": "stdout",
     "output_type": "stream",
     "text": [
      "0o7436\n"
     ]
    }
   ],
   "source": [
    "print(oct(0o7436))"
   ]
  },
  {
   "cell_type": "code",
   "execution_count": 43,
   "metadata": {},
   "outputs": [
    {
     "name": "stdout",
     "output_type": "stream",
     "text": [
      "0x50\n"
     ]
    }
   ],
   "source": [
    "print(hex(0b1010000))"
   ]
  },
  {
   "cell_type": "code",
   "execution_count": 44,
   "metadata": {},
   "outputs": [
    {
     "name": "stdout",
     "output_type": "stream",
     "text": [
      "0xfade\n"
     ]
    }
   ],
   "source": [
    "print(hex(0xfade ))"
   ]
  },
  {
   "cell_type": "code",
   "execution_count": null,
   "metadata": {},
   "outputs": [],
   "source": []
  },
  {
   "cell_type": "code",
   "execution_count": null,
   "metadata": {},
   "outputs": [],
   "source": []
  }
 ],
 "metadata": {
  "kernelspec": {
   "display_name": "Python 3",
   "language": "python",
   "name": "python3"
  },
  "language_info": {
   "codemirror_mode": {
    "name": "ipython",
    "version": 3
   },
   "file_extension": ".py",
   "mimetype": "text/x-python",
   "name": "python",
   "nbconvert_exporter": "python",
   "pygments_lexer": "ipython3",
   "version": "3.8.5"
  }
 },
 "nbformat": 4,
 "nbformat_minor": 4
}
